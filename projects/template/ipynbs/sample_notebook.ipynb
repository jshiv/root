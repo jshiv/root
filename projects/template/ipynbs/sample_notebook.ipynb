{
 "metadata": {
  "kernelspec": {
   "display_name": "Python 2",
   "language": "python",
   "name": "python2"
  },
  "language_info": {
   "codemirror_mode": {
    "name": "ipython",
    "version": 2
   },
   "file_extension": ".py",
   "mimetype": "text/x-python",
   "name": "python",
   "nbconvert_exporter": "python",
   "pygments_lexer": "ipython2",
   "version": "2.7.9"
  },
  "name": ""
 },
 "nbformat": 3,
 "nbformat_minor": 0,
 "worksheets": [
  {
   "cells": [
    {
     "cell_type": "code",
     "collapsed": false,
     "input": [
      "##### custome imports\n",
      "try:\n",
      "    import template\n",
      "except Exception as e:\n",
      "    print e\n",
      "\n",
      "##### standard imports\n",
      "import pandas as pd\n",
      "import numpy as np\n",
      "import datetime as dt\n",
      "import seaborn as sns\n",
      "import pytz\n",
      "import matplotlib.pylab as plt\n",
      "\n",
      "##### globals\n",
      "now = dt.datetime.now(pytz.timezone('US/Pacific'))\n",
      "datestr = now.strftime('%m%d%y')\n",
      "rootdir = './results/'\n",
      "\n",
      "##### status, ipynb options\n",
      "print 'script executed at', now\n",
      "pd.set_option('display.max_columns', 500)\n",
      "pd.set_option('display.max_rows',    100)\n",
      "\n",
      "#make the plots happen inline\n",
      "%matplotlib inline"
     ],
     "language": "python",
     "metadata": {},
     "outputs": [
      {
       "output_type": "stream",
       "stream": "stdout",
       "text": [
        "script executed at 2015-03-09 15:37:04.013907-07:00\n"
       ]
      }
     ],
     "prompt_number": 1
    },
    {
     "cell_type": "heading",
     "level": 2,
     "metadata": {},
     "source": [
      "Make a simple matplotlib plot with numpy arrays"
     ]
    },
    {
     "cell_type": "code",
     "collapsed": false,
     "input": [
      "X = np.random.randn(100)\n",
      "Y = np.random.randn(100)\n",
      "\n",
      "plt.scatter(X,Y)\n",
      "plt.show()"
     ],
     "language": "python",
     "metadata": {},
     "outputs": [
      {
       "metadata": {},
       "output_type": "display_data",
       "png": "[encoded data removed]",
       "text": [
        "<matplotlib.figure.Figure at 0x10440f6d0>"
       ]
      }
     ],
     "prompt_number": 2
    },
    {
     "cell_type": "heading",
     "level": 2,
     "metadata": {},
     "source": [
      "Make a DataFrame"
     ]
    },
    {
     "cell_type": "code",
     "collapsed": false,
     "input": [
      "df = pd.DataFrame({'X':X,'Y':Y})\n",
      "df.head()"
     ],
     "language": "python",
     "metadata": {},
     "outputs": [
      {
       "html": [
        "<div style=\"max-height:1000px;max-width:1500px;overflow:auto;\">\n",
        "<table border=\"1\" class=\"dataframe\">\n",
        "  <thead>\n",
        "    <tr style=\"text-align: right;\">\n",
        "      <th></th>\n",
        "      <th>X</th>\n",
        "      <th>Y</th>\n",
        "    </tr>\n",
        "  </thead>\n",
        "  <tbody>\n",
        "    <tr>\n",
        "      <th>0</th>\n",
        "      <td>-0.252142</td>\n",
        "      <td>-0.411901</td>\n",
        "    </tr>\n",
        "    <tr>\n",
        "      <th>1</th>\n",
        "      <td> 0.260917</td>\n",
        "      <td> 1.031649</td>\n",
        "    </tr>\n",
        "    <tr>\n",
        "      <th>2</th>\n",
        "      <td>-1.116631</td>\n",
        "      <td> 0.370798</td>\n",
        "    </tr>\n",
        "    <tr>\n",
        "      <th>3</th>\n",
        "      <td> 0.713499</td>\n",
        "      <td>-1.269042</td>\n",
        "    </tr>\n",
        "    <tr>\n",
        "      <th>4</th>\n",
        "      <td>-0.477105</td>\n",
        "      <td> 0.234422</td>\n",
        "    </tr>\n",
        "  </tbody>\n",
        "</table>\n",
        "</div>"
       ],
       "metadata": {},
       "output_type": "pyout",
       "prompt_number": 12,
       "text": [
        "          X         Y\n",
        "0 -0.252142 -0.411901\n",
        "1  0.260917  1.031649\n",
        "2 -1.116631  0.370798\n",
        "3  0.713499 -1.269042\n",
        "4 -0.477105  0.234422"
       ]
      }
     ],
     "prompt_number": 12
    },
    {
     "cell_type": "heading",
     "level": 2,
     "metadata": {},
     "source": [
      "Make a pretty plot with seaborn"
     ]
    },
    {
     "cell_type": "code",
     "collapsed": false,
     "input": [
      "sns.jointplot(X,Y, kind = 'reg' )"
     ],
     "language": "python",
     "metadata": {},
     "outputs": [
      {
       "metadata": {},
       "output_type": "pyout",
       "prompt_number": 14,
       "text": [
        "<seaborn.axisgrid.JointGrid at 0x10c7e9e50>"
       ]
      },
      {
       "metadata": {},
       "output_type": "display_data",
       "png": "[encoded data removed]",
       "text": [
        "<matplotlib.figure.Figure at 0x10c7e90d0>"
       ]
      }
     ],
     "prompt_number": 14
    },
    {
     "cell_type": "code",
     "collapsed": true,
     "input": [],
     "language": "python",
     "metadata": {},
     "outputs": [],
     "prompt_number": null
    }
   ],
   "metadata": {}
  }
 ]
}