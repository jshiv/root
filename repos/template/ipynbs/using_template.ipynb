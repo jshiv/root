{
 "cells": [
  {
   "cell_type": "markdown",
   "metadata": {},
   "source": [
    "Dont forget to install your package. \n",
    "\n",
    "```\n",
    "python setup.py install\n",
    "```\n",
    "or on a mac...\n",
    "```\n",
    "sudo python setup.py install\n",
    "```"
   ]
  },
  {
   "cell_type": "code",
   "execution_count": 1,
   "metadata": {
    "collapsed": false
   },
   "outputs": [],
   "source": [
    "import template\n"
   ]
  },
  {
   "cell_type": "markdown",
   "metadata": {},
   "source": [
    "try using the tab button to see what modules and methods you have avaliable"
   ]
  },
  {
   "cell_type": "code",
   "execution_count": 2,
   "metadata": {
    "collapsed": false
   },
   "outputs": [
    {
     "data": {
      "text/plain": [
       "<module 'template.simple_module' from '/Users/jshiverick/anaconda/lib/python2.7/site-packages/template-0.1.0-py2.7.egg/template/simple_module.pyc'>"
      ]
     },
     "execution_count": 2,
     "metadata": {},
     "output_type": "execute_result"
    }
   ],
   "source": [
    "template.simple_module"
   ]
  },
  {
   "cell_type": "markdown",
   "metadata": {},
   "source": [
    "try shit tab after () to see the doc string of the methods you build in simple module"
   ]
  },
  {
   "cell_type": "code",
   "execution_count": 3,
   "metadata": {
    "collapsed": false
   },
   "outputs": [
    {
     "name": "stdout",
     "output_type": "stream",
     "text": [
      "4\n"
     ]
    }
   ],
   "source": [
    "die = template.simple_module.die(6)\n",
    "die.roll()\n"
   ]
  },
  {
   "cell_type": "markdown",
   "metadata": {},
   "source": [
    ">In order to make updates to the source code:\n",
    "    1. The source code must be saved.\n",
    "    2. The package must be re-installed with \"python setup.py install\"\n",
    "    3. The notebook kernal must be restarted"
   ]
  }
 ],
 "metadata": {
  "kernelspec": {
   "display_name": "Python 2",
   "language": "python",
   "name": "python2"
  },
  "language_info": {
   "codemirror_mode": {
    "name": "ipython",
    "version": 2
   },
   "file_extension": ".py",
   "mimetype": "text/x-python",
   "name": "python",
   "nbconvert_exporter": "python",
   "pygments_lexer": "ipython2",
   "version": "2.7.9"
  }
 },
 "nbformat": 4,
 "nbformat_minor": 0
}
