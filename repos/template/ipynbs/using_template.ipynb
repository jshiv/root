{
 "metadata": {
  "kernelspec": {
   "display_name": "Python 2",
   "language": "python",
   "name": "python2"
  },
  "language_info": {
   "codemirror_mode": {
    "name": "ipython",
    "version": 2
   },
   "file_extension": ".py",
   "mimetype": "text/x-python",
   "name": "python",
   "nbconvert_exporter": "python",
   "pygments_lexer": "ipython2",
   "version": "2.7.9"
  },
  "name": "",
  "signature": "sha256:80d1d3ff4614282a93b516bcdafc7bebb8e9742c28cf8e11741362677b9feca9"
 },
 "nbformat": 3,
 "nbformat_minor": 0,
 "worksheets": [
  {
   "cells": [
    {
     "cell_type": "markdown",
     "metadata": {},
     "source": [
      "Dont forget to install your package. \n",
      "\n",
      "```\n",
      "python setup.py install\n",
      "```\n",
      "or on a mac...\n",
      "```\n",
      "sudo python setup.py install\n",
      "```"
     ]
    },
    {
     "cell_type": "code",
     "collapsed": false,
     "input": [
      "import template\n"
     ],
     "language": "python",
     "metadata": {},
     "outputs": [],
     "prompt_number": 1
    },
    {
     "cell_type": "markdown",
     "metadata": {},
     "source": [
      "try using the tab button to see what modules and methods you have avaliable"
     ]
    },
    {
     "cell_type": "code",
     "collapsed": false,
     "input": [
      "template.simple_module"
     ],
     "language": "python",
     "metadata": {},
     "outputs": [
      {
       "metadata": {},
       "output_type": "pyout",
       "prompt_number": 2,
       "text": [
        "<module 'template.simple_module' from '/Users/jshiverick/anaconda/lib/python2.7/site-packages/template-0.1.0-py2.7.egg/template/simple_module.pyc'>"
       ]
      }
     ],
     "prompt_number": 2
    },
    {
     "cell_type": "markdown",
     "metadata": {},
     "source": [
      "try shit tab after () to see the doc string of the methods you build in simple module"
     ]
    },
    {
     "cell_type": "code",
     "collapsed": false,
     "input": [
      "die = template.simple_module.die(6)\n",
      "die.roll()\n"
     ],
     "language": "python",
     "metadata": {},
     "outputs": [
      {
       "output_type": "stream",
       "stream": "stdout",
       "text": [
        "4\n"
       ]
      }
     ],
     "prompt_number": 3
    },
    {
     "cell_type": "markdown",
     "metadata": {},
     "source": [
      ">In order to make updates to the source code:\n",
      "    1. The source code must be saved.\n",
      "    2. The package must be re-installed with \"python setup.py install\"\n",
      "    3. The notebook kernal must be restarted"
     ]
    }
   ],
   "metadata": {}
  }
 ]
}